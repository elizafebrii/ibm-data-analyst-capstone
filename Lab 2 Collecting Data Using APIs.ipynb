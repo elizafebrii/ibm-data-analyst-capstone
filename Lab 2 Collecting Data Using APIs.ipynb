{
 "cells": [
  {
   "cell_type": "markdown",
   "id": "67643f90-b954-41cc-b75e-e60cc96082cd",
   "metadata": {},
   "source": [
    "<p style=\"text-align:center\">\n",
    "    <a href=\"https://skills.network\" target=\"_blank\">\n",
    "    <img src=\"https://cf-courses-data.s3.us.cloud-object-storage.appdomain.cloud/assets/logos/SN_web_lightmode.png\" width=\"200\" alt=\"Skills Network Logo\">\n",
    "    </a>\n",
    "</p>"
   ]
  },
  {
   "cell_type": "markdown",
   "id": "e49537ae-09e8-4225-b1f7-4740c72a653c",
   "metadata": {},
   "source": [
    "# **Collecting Job Data Using APIs**"
   ]
  },
  {
   "cell_type": "markdown",
   "id": "69590b54-330b-4c3f-8f5e-d4ad44e77fd8",
   "metadata": {},
   "source": [
    "## Objectives"
   ]
  },
  {
   "cell_type": "markdown",
   "id": "6c9ecf5f-64c8-4615-8645-19dce2ba90ba",
   "metadata": {},
   "source": [
    "After completing this lab, you will be able to:"
   ]
  },
  {
   "cell_type": "markdown",
   "id": "c093a7ec-cd72-4ecb-8971-e44aa304c1a9",
   "metadata": {},
   "source": [
    "*   Collect job data using Jobs API\n",
    "*   Store the collected data into an excel spreadsheet."
   ]
  },
  {
   "cell_type": "markdown",
   "id": "17e495bc-8806-43a7-b8d1-c3212cee3c10",
   "metadata": {},
   "source": [
    "><strong>Note: Before starting with the assigment make sure to read all the instructions and then move ahead with the coding part.</strong>"
   ]
  },
  {
   "cell_type": "markdown",
   "id": "501a5ddb-1d46-4873-b168-b531218aaee4",
   "metadata": {},
   "source": [
    "#### Instructions"
   ]
  },
  {
   "cell_type": "markdown",
   "id": "0439b30f-ad68-487d-83cb-5ffe5f1a2209",
   "metadata": {},
   "source": [
    "To run the actual lab, firstly you need to click on the [Jobs_API](https://cf-courses-data.s3.us.cloud-object-storage.appdomain.cloud/IBM-DA0321EN-SkillsNetwork/labs/module%201/Accessing%20Data%20Using%20APIs/Jobs_API.ipynb) notebook link. The file contains flask code which is required to run the Jobs API data.\n",
    "\n",
    "Now, to run the code in the file that opens up follow the below steps.\n",
    "\n",
    "Step1: Download the file. \n",
    "\n",
    "Step2: Upload the file into your current Jupyter environment using the upload button in your Jupyter interface. Ensure that the file is in the same folder as your working .ipynb file.\n",
    "\n",
    "Step 2: If working in a local Jupyter environment, use the \"Upload\" button in your Jupyter interface to upload the Jobs_API notebook into the same folder as your current .ipynb file.\n",
    "\n",
    "<img src=\"https://cf-courses-data.s3.us.cloud-object-storage.appdomain.cloud/IBM-DA0321EN-SkillsNetwork/labs/module%201/Accessing%20Data%20Using%20APIs/Upload.PNG\">\n",
    "\n",
    "Step3:  Open the Jobs_API notebook, and run all the cells to start the Flask application. Once the server is running, you can access the API from the URL provided in the notebook.\n",
    "\n",
    "If you want to learn more about flask, which is optional, you can click on this link [here](https://cf-courses-data.s3.us.cloud-object-storage.appdomain.cloud/IBM-DA0321EN-SkillsNetwork/labs/module%201/Accessing%20Data%20Using%20APIs/FLASK_API.md.html).\n",
    "\n",
    "Once you run the flask code, you can start with your assignment.\n"
   ]
  },
  {
   "cell_type": "markdown",
   "id": "545544ff-31d3-4c37-8f0e-acf135216d3c",
   "metadata": {},
   "source": [
    "## Dataset Used in this Assignment\n",
    "\n",
    "The dataset used in this lab comes from the following source: https://www.kaggle.com/promptcloud/jobs-on-naukricom under the under a **Public Domain license**.\n",
    "\n",
    "> Note: We are using a modified subset of that dataset for the lab, so to follow the lab instructions successfully please use the dataset provided with the lab, rather than the dataset from the original source.\n",
    "\n",
    "The original dataset is a csv. We have converted the csv to json as per the requirement of the lab.\n"
   ]
  },
  {
   "cell_type": "markdown",
   "id": "528cfc40-8ac8-4148-8a9a-2eb9c254cbcb",
   "metadata": {},
   "source": [
    "## Warm-Up Exercise"
   ]
  },
  {
   "cell_type": "markdown",
   "id": "8d1d7500-e4b8-4bd6-b320-1bf8d8dd3cac",
   "metadata": {},
   "source": [
    "Before you attempt the actual lab, here is a fully solved warmup exercise that will help you to learn how to access an API.\n"
   ]
  },
  {
   "cell_type": "markdown",
   "id": "6e849cb8-4342-4a00-b17c-b4a36d2c37ef",
   "metadata": {},
   "source": [
    "Using an API, let us find out who currently are on the International Space Station (ISS).<br> The API at [http://api.open-notify.org/astros.json](http://api.open-notify.org/astros.json?utm_medium=Exinfluencer&utm_source=Exinfluencer&utm_content=000026UJ&utm_term=10006555&utm_id=NA-SkillsNetwork-Channel-SkillsNetworkCoursesIBMDA0321ENSkillsNetwork21426264-2021-01-01&cm_mmc=Email_Newsletter-_-Developer_Ed%2BTech-_-WW_WW-_-SkillsNetwork-Courses-IBM-DA0321EN-SkillsNetwork-21426264&cm_mmca1=000026UJ&cm_mmca2=10006555&cm_mmca3=M12345678&cvosrc=email.Newsletter.M12345678&cvo_campaign=000026UJ) gives us the information of astronauts currently on ISS in json format.<br>\n",
    "You can read more about this API at [http://open-notify.org/Open-Notify-API/People-In-Space/](http://open-notify.org/Open-Notify-API/People-In-Space?utm_medium=Exinfluencer&utm_source=Exinfluencer&utm_content=000026UJ&utm_term=10006555&utm_id=NA-SkillsNetwork-Channel-SkillsNetworkCoursesIBMDA0321ENSkillsNetwork21426264-2021-01-01&cm_mmc=Email_Newsletter-_-Developer_Ed%2BTech-_-WW_WW-_-SkillsNetwork-Courses-IBM-DA0321EN-SkillsNetwork-21426264&cm_mmca1=000026UJ&cm_mmca2=10006555&cm_mmca3=M12345678&cvosrc=email.Newsletter.M12345678&cvo_campaign=000026UJ)\n"
   ]
  },
  {
   "cell_type": "code",
   "execution_count": null,
   "id": "23be39bd-1346-4353-afa9-f97c16a57c0b",
   "metadata": {},
   "outputs": [],
   "source": [
    "import requests\n",
    "import pandas as pd"
   ]
  },
  {
   "cell_type": "code",
   "execution_count": null,
   "id": "00e1a6a3-6169-41f5-bec8-eb3cc983b633",
   "metadata": {},
   "outputs": [],
   "source": [
    "api_url = \"http://api.open-notify.org/astros.json\" "
   ]
  },
  {
   "cell_type": "code",
   "execution_count": null,
   "id": "af9ee8ed-a1c3-4d5c-9579-bf7cc58198e2",
   "metadata": {},
   "outputs": [],
   "source": [
    "response = requests.get(api_url)"
   ]
  },
  {
   "cell_type": "code",
   "execution_count": null,
   "id": "bff0f371-f809-47c9-bb9d-6916c5194651",
   "metadata": {},
   "outputs": [],
   "source": [
    "if response.ok:\n",
    "     data = response.json()"
   ]
  },
  {
   "cell_type": "code",
   "execution_count": null,
   "id": "43bcfef0-34eb-4c14-9f26-1b66d86ed9c1",
   "metadata": {
    "jupyter": {
     "source_hidden": true
    }
   },
   "outputs": [],
   "source": [
    "print(data)"
   ]
  },
  {
   "cell_type": "code",
   "execution_count": null,
   "id": "7b098533-addc-45fc-b01e-8e7bc56c4f28",
   "metadata": {},
   "outputs": [],
   "source": [
    "print(data.get('number'))"
   ]
  },
  {
   "cell_type": "code",
   "execution_count": null,
   "id": "17e4d051-827d-43bc-930c-b7e528bc37f9",
   "metadata": {},
   "outputs": [],
   "source": [
    "astronauts = data.get('people')\n",
    "print(\"There are {} astronauts on ISS\".format(len(astronauts)))\n",
    "print(\"And their names are:\")\n",
    "for astronaut in astronauts:\n",
    "    print(astronaut.get('name'))"
   ]
  },
  {
   "cell_type": "markdown",
   "id": "8b17dd3d-e563-47c5-97b6-49e06bd99893",
   "metadata": {},
   "source": [
    "## Lab: Collect Jobs Data using Jobs API"
   ]
  },
  {
   "cell_type": "markdown",
   "id": "66a8a8d2-512c-4d50-a991-16d525acd353",
   "metadata": {},
   "source": [
    "### Objective: Determine the number of jobs currently open for various technologies  and for various locations\n"
   ]
  },
  {
   "cell_type": "markdown",
   "id": "6d90cc2d-9e2b-47cc-aaf5-8543f2ef1315",
   "metadata": {},
   "source": [
    "Collect the number of job postings for the following locations using the API:\n",
    "\n",
    "* Los Angeles\n",
    "* New York\n",
    "* San Francisco\n",
    "* Washington DC\n",
    "* Seattle\n",
    "* Austin\n",
    "* Detroit\n"
   ]
  },
  {
   "cell_type": "code",
   "execution_count": null,
   "id": "b72daa6b-0093-4412-96d5-8ce674af5d91",
   "metadata": {},
   "outputs": [],
   "source": [
    "import pandas as pd\n",
    "import json"
   ]
  },
  {
   "cell_type": "markdown",
   "id": "b70e11cc-292e-408a-b4da-036714cae887",
   "metadata": {},
   "source": [
    "https://cf-courses-data.s3.us.cloud-object-storage.appdomain.cloud/IBM-DA0321EN-SkillsNetwork/labs/module%201/Accessing%20Data%20Using%20APIs/jobs.json#### Write a function to get the number of jobs for the Python technology.<br>\n",
    "> Note: While using the lab you need to pass the **payload** information for the **params** attribute in the form of **key** **value** pairs.\n",
    "  Refer the ungraded **rest api lab** in the course **Python for Data Science, AI & Development**  <a href=\"https://www.coursera.org/learn/python-for-applied-data-science-ai/ungradedLti/P6sW8/hands-on-lab-access-rest-apis-request-http?utm_medium=Exinfluencer&utm_source=Exinfluencer&utm_content=000026UJ&utm_term=10006555&utm_id=NA-SkillsNetwork-Channel-SkillsNetworkCoursesIBMDA0321ENSkillsNetwork928-2022-01-01\">link</a>\n",
    "  \n",
    " ##### The keys in the json are \n",
    " * Job Title\n",
    " \n",
    " * Job Experience Required\n",
    " \n",
    " * Key Skills\n",
    " \n",
    " * Role Category\n",
    " \n",
    " * Location\n",
    " \n",
    " * Functional Area\n",
    " \n",
    " * Industry\n",
    " \n",
    " * Role \n",
    " \n",
    "You can also view  the json file contents  from the following <a href = \"https://cf-courses-data.s3.us.cloud-object-storage.appdomain.cloud/IBM-DA0321EN-SkillsNetwork/labs/module%201/Accessing%20Data%20Using%20APIs/jobs.json\">json</a> URL.\n",
    "\n"
   ]
  },
  {
   "cell_type": "code",
   "execution_count": null,
   "id": "6f1e3e40-047b-476f-afc3-f30e5d727b1b",
   "metadata": {},
   "outputs": [],
   "source": [
    "api_url=\"https://cf-courses-data.s3.us.cloud-object-storage.appdomain.cloud/IBM-DA0321EN-SkillsNetwork/labs/module%201/Accessing%20Data%20Using%20APIs/jobs.json\"\n",
    "\n",
    "def get_number_of_jobs_T(technology):\n",
    "    return technology,number_of_jobs"
   ]
  },
  {
   "cell_type": "markdown",
   "id": "7d13709f-6f9c-46a0-a5eb-1b67bd1ae4b9",
   "metadata": {},
   "source": [
    "Calling the function for Python and checking if it works.\n"
   ]
  },
  {
   "cell_type": "code",
   "execution_count": null,
   "id": "c5c45a6d-1510-426b-90f8-24842ed0c58a",
   "metadata": {},
   "outputs": [],
   "source": [
    "print(get_number_of_jobs_T(\"Phyton\"))"
   ]
  },
  {
   "cell_type": "markdown",
   "id": "8bbe9f11-9f32-41e0-9e22-5d41766f9a36",
   "metadata": {},
   "source": [
    "#### Find number jobs in US"
   ]
  },
  {
   "cell_type": "code",
   "execution_count": null,
   "id": "deb234b4-337b-4c5c-9fa3-76c0ea1a552c",
   "metadata": {},
   "outputs": [],
   "source": [
    "def get_number_of_jobs_L(location):\n",
    "    import requests\n",
    "    data = requests.get(api_url).json()\n",
    "    location_number_of_jobs = data['location'][location]\n",
    "    return location_number_of_jobs"
   ]
  },
  {
   "cell_type": "markdown",
   "id": "f46214db-f75c-415a-b611-bc17529c0b09",
   "metadata": {},
   "source": [
    "Call the function for Los Angeles and check if it is working.\n"
   ]
  },
  {
   "cell_type": "code",
   "execution_count": null,
   "id": "ebb1ce6f-2c3d-4fc6-a73f-2f923534ce50",
   "metadata": {},
   "outputs": [],
   "source": [
    "get_number_of_jobs_L(\"Los Angeles\")"
   ]
  },
  {
   "cell_type": "markdown",
   "id": "f1f05e7c-56a6-4b5c-b14b-35047dcf97c0",
   "metadata": {},
   "source": [
    "### Store the results in an excel file"
   ]
  },
  {
   "cell_type": "markdown",
   "id": "47d0b50e-3a3c-436a-b833-f4e438e78019",
   "metadata": {},
   "source": [
    "Call the API for all the given technologies above and write the results in an excel spreadsheet.\n"
   ]
  },
  {
   "cell_type": "markdown",
   "id": "6769a682-ef6f-4550-9a12-904070fbba86",
   "metadata": {},
   "source": [
    "Create a python list of all technologies for which you need to find the number of jobs postings.\n"
   ]
  },
  {
   "cell_type": "code",
   "execution_count": null,
   "id": "12a52022-4f36-4aa8-b26c-836cbfbad557",
   "metadata": {},
   "outputs": [],
   "source": [
    "technologies = ['Python', 'Java', 'Javascript', 'C++', 'AWS', 'SQL', 'React', 'Node.js']"
   ]
  },
  {
   "cell_type": "markdown",
   "id": "a56c0abe-6ff7-47d0-ad03-dc66514c1733",
   "metadata": {},
   "source": [
    "Import libraries required to create excel spreadsheet & Create a workbook and select the active worksheet"
   ]
  },
  {
   "cell_type": "code",
   "execution_count": null,
   "id": "93dc9279-c63a-4d3c-8370-c81077555309",
   "metadata": {},
   "outputs": [],
   "source": [
    "import openpyxl\n",
    "wb = openpyxl.Workbook()\n",
    "ws = wb.active\n",
    "ws.title = \"Job Postings\""
   ]
  },
  {
   "cell_type": "markdown",
   "id": "7711a171-bf0a-4faf-9ec8-a5a2bf92cac2",
   "metadata": {},
   "source": [
    "Find the number of jobs postings for each of the technology in the above list.\n",
    "Write the technology name and the number of jobs postings into the excel spreadsheet.\n"
   ]
  },
  {
   "cell_type": "code",
   "execution_count": null,
   "id": "646eccbe-d741-4244-80f9-7c961669b600",
   "metadata": {},
   "outputs": [],
   "source": [
    "ws.append([\"Technology\", \"Number of Job Postings\"])\n",
    "\n",
    "for tech in technologies:\n",
    "    jobs = get_number_of_jobs_T(tech)\n",
    "    ws.append([tech, jobs])"
   ]
  },
  {
   "cell_type": "markdown",
   "id": "2f9b0b72-7643-4c39-b3c1-6a2e2ed70a35",
   "metadata": {},
   "source": [
    "Save into an excel spreadsheet named **job-postings.xlsx**."
   ]
  },
  {
   "cell_type": "code",
   "execution_count": null,
   "id": "982ae7cb-2916-4649-a740-20235aa3883b",
   "metadata": {},
   "outputs": [],
   "source": [
    "wb.save(\"job-postings.xlsx\")"
   ]
  },
  {
   "cell_type": "markdown",
   "id": "fa967970-662a-42be-89d6-f72824a51e38",
   "metadata": {},
   "source": [
    "#### Technologies and results stored in an excel sheet.\n"
   ]
  },
  {
   "cell_type": "markdown",
   "id": "af3cae72-1842-4ad4-995e-8ed4679a3edc",
   "metadata": {},
   "source": [
    "Collect the number of job postings for the following languages using the API:\n",
    "\n",
    "*   C\n",
    "*   C#\n",
    "*   C++\n",
    "*   Java\n",
    "*   JavaScript\n",
    "*   Python\n",
    "*   Scala\n",
    "*   Oracle\n",
    "*   SQL Server\n",
    "*   MySQL Server\n",
    "*   PostgreSQL\n",
    "*   MongoDB\n"
   ]
  },
  {
   "cell_type": "code",
   "execution_count": null,
   "id": "e5d66da0-2939-4bcd-b7a7-8c415052150c",
   "metadata": {},
   "outputs": [],
   "source": [
    "import requests\n",
    "import openpyxl\n",
    "\n",
    "api_url = \"https://cf-courses-data.s3.us.cloud-object-storage.appdomain.cloud/IBM-DA0321EN-SkillsNetwork/labs/module%201/Accessing%20Data%20Using%20APIs/jobs.json\"\n",
    "\n",
    "technologies = [\n",
    "    \"C\", \"C#\", \"C++\", \"Java\", \"JavaScript\", \"Python\", \"Scala\", \"Oracle\",\n",
    "    \"SQL Server\", \"MySQL Server\", \"PostgreSQL\", \"MongoDB\"\n",
    "]\n",
    "\n",
    "def get_number_of_jobs_T(technology):\n",
    "    data = requests.get(api_url).json()\n",
    "    return data['technology'].get(technology, 0)\n",
    "\n",
    "wb = openpyxl.Workbook()\n",
    "ws = wb.active\n",
    "ws.title = \"Tech Jobs\"\n",
    "\n",
    "ws.append([\"Technology\", \"Number of Job Postings\"])\n",
    "\n",
    "for tech in technologies:\n",
    "    jobs = get_number_of_jobs_T(tech)\n",
    "    ws.append([tech, jobs])\n",
    "\n",
    "wb.save(\"language-job-postings.xlsx\")\n"
   ]
  },
  {
   "cell_type": "code",
   "execution_count": null,
   "id": "4333751d-30b8-475b-b92a-57321decf2cf",
   "metadata": {},
   "outputs": [],
   "source": [
    "print(df)"
   ]
  },
  {
   "cell_type": "code",
   "execution_count": 4,
   "id": "9b1c1ef2-58b9-4e98-a610-4a723382345a",
   "metadata": {},
   "outputs": [],
   "source": [
    "import pandas as pd\n",
    "\n",
    "df = pd.read_excel(\"job_postings.xlsx\", engine=\"openpyxl\")"
   ]
  },
  {
   "cell_type": "code",
   "execution_count": null,
   "id": "977b7ecf-dbe5-48a3-a707-91aeeeb8ef11",
   "metadata": {},
   "outputs": [],
   "source": []
  }
 ],
 "metadata": {
  "kernelspec": {
   "display_name": "Python [conda env:base] *",
   "language": "python",
   "name": "conda-base-py"
  },
  "language_info": {
   "codemirror_mode": {
    "name": "ipython",
    "version": 3
   },
   "file_extension": ".py",
   "mimetype": "text/x-python",
   "name": "python",
   "nbconvert_exporter": "python",
   "pygments_lexer": "ipython3",
   "version": "3.12.7"
  }
 },
 "nbformat": 4,
 "nbformat_minor": 5
}
