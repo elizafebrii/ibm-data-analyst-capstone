{
 "cells": [
  {
   "cell_type": "markdown",
   "id": "88fc5b13-2d78-4b5d-9a3d-ffe6995d7157",
   "metadata": {},
   "source": [
    "<p style=\"text-align:center\">\n",
    "    <a href=\"https://skills.network/?utm_medium=Exinfluencer&utm_source=Exinfluencer&utm_content=000026UJ&utm_term=10006555&utm_id=NA-SkillsNetwork-Channel-SkillsNetworkCoursesIBMDA0321ENSkillsNetwork928-2022-01-01\" target=\"_blank\">\n",
    "    <img src=\"https://cf-courses-data.s3.us.cloud-object-storage.appdomain.cloud/assets/logos/SN_web_lightmode.png\" width=\"200\" alt=\"Skills Network Logo\"  />\n",
    "    </a>\n",
    "</p>\n"
   ]
  },
  {
   "cell_type": "markdown",
   "id": "20e13ad5-3089-43bc-9a23-e1a7cc6723a0",
   "metadata": {},
   "source": [
    "# **Web Scraping Lab**\n"
   ]
  },
  {
   "cell_type": "markdown",
   "id": "1e235d0d-123d-4bc6-967f-4ec8b00ae368",
   "metadata": {},
   "source": [
    "## Objectives\n"
   ]
  },
  {
   "cell_type": "markdown",
   "id": "7ae20a0e-02d5-4f06-8e77-00a94de61b0e",
   "metadata": {},
   "source": [
    "After completing this lab, you will be able to:"
   ]
  },
  {
   "cell_type": "markdown",
   "id": "0e830886-122c-4b92-a0fd-f61698644c44",
   "metadata": {},
   "source": [
    "* Download a webpage using requests module\n",
    "* Scrape all links from a webpage\n",
    "* Scrape all image URLs from a web page\n",
    "* Scrape data from html tables\n"
   ]
  },
  {
   "cell_type": "markdown",
   "id": "3d2e3819-035a-4155-a844-d0e339d7e765",
   "metadata": {},
   "source": [
    "## Scrape www.ibm.com\n"
   ]
  },
  {
   "cell_type": "markdown",
   "id": "dea08107-8da3-405a-b4f6-cd49983150dc",
   "metadata": {},
   "source": [
    "Import the required modules and functions\n"
   ]
  },
  {
   "cell_type": "code",
   "execution_count": 2,
   "id": "446027cf-f0b0-4681-a947-06e64d4e8764",
   "metadata": {},
   "outputs": [],
   "source": [
    "from bs4 import BeautifulSoup \n",
    "import requests"
   ]
  },
  {
   "cell_type": "markdown",
   "id": "6600b6a1-1083-41db-9529-aa0f7c727db1",
   "metadata": {},
   "source": [
    "Download the contents of the webpage"
   ]
  },
  {
   "cell_type": "code",
   "execution_count": 3,
   "id": "1100baf6-32ce-4389-807f-82041da3201a",
   "metadata": {},
   "outputs": [],
   "source": [
    "url = \"http://www.ibm.com\""
   ]
  },
  {
   "cell_type": "code",
   "execution_count": 4,
   "id": "9e1b9122-d995-426a-824c-cc4775447074",
   "metadata": {},
   "outputs": [],
   "source": [
    "data  = requests.get(url).text "
   ]
  },
  {
   "cell_type": "markdown",
   "id": "5d2be400-e390-4f89-8ab2-eda1dcf07d12",
   "metadata": {},
   "source": [
    "Create a soup object using the class BeautifulSoup"
   ]
  },
  {
   "cell_type": "code",
   "execution_count": 6,
   "id": "d12ec8d2-fdac-4a50-8493-259c8339d7bf",
   "metadata": {},
   "outputs": [],
   "source": [
    "soup = BeautifulSoup(data,\"html.parser\")"
   ]
  },
  {
   "cell_type": "code",
   "execution_count": 7,
   "id": "6d075d0d-9c72-4148-8104-5717b7ef4d67",
   "metadata": {},
   "outputs": [
    {
     "name": "stdout",
     "output_type": "stream",
     "text": [
      "https://www.ibm.com/account/reg/id-id/signup?formid=urx-53289&lnk=hppb1id\n",
      "https://www.ibm.com/id-id/products/watsonx-orchestrate?lnk=hpls1id\n",
      "https://www.ibm.com/think/insights/embracing-future-of-hr-ai-first-enterprise?lnk=hpls2id\n",
      "https://www.ibm.com/id-id/products/watsonx-orchestrate/ai-agent-for-hr?lnk=hppa2id\n",
      "https://www.ibm.com/id-id/products/watsonx-data?lnk=hppa3id\n",
      "https://www.ibm.com/id-id/products/instana?lnk=hppa4id\n",
      "https://www.ibm.com/id-id/products/webmethods-hybrid-integration?lnk=hppa5id\n",
      "https://www.ibm.com/id-id/products/concert/resilience-posture-analysis?lnk=hppa6id\n",
      "https://www.ibm.com/id-id/granite?lnk=hpad1id\n",
      "https://developer.ibm.com/technologies/artificial-intelligence?lnk=hpad2id\n",
      "https://www.ibm.com/id-id/products/watsonx-code-assistant?lnk=hpad3id\n",
      "https://www.ibm.com/id-id/watsonx/developer/?lnk=hpad4id\n",
      "https://www.ibm.com/thought-leadership/institute-business-value/report/ceo-generative-ai?lnk=hpab1id\n",
      "https://www.ibm.com/id-id/think/reports/ai-in-action?lnk=hpab2id\n",
      "https://www.ibm.com/downloads/documents/us-en/10a99803d62fd3a5?lnk=hpab3id\n",
      "https://www.ibm.com/account/reg/signup?formid=news-urx-52954&lnk=hpab4id\n",
      "https://www.ibm.com/account/reg/signup?formid=urx-53609#lnk=hpidbt1\n",
      "https://www.ibm.com/id-id/artificial-intelligence?lnk=hpfp1id\n",
      "https://www.ibm.com/id-id/hybrid-cloud?lnk=hpfp2id\n",
      "https://www.ibm.com/id-id/consulting?lnk=hpfp3id\n",
      "https://www.ibm.com/id-id/about?lnk=hpii1id\n",
      "https://www.ibm.com/id-id/history?lnk=hpii2id\n",
      "https://research.ibm.com?lnk=hpii5id\n",
      "https://www.ibm.com/quantum?lnk=hpii6id\n",
      "https://www.ibm.com/id-id/careers?lnk=hpii1id\n",
      "https://skillsbuild.org?lnk=hpii1id\n"
     ]
    }
   ],
   "source": [
    "for link in soup.find_all('a'): \n",
    "    print(link.get('href'))"
   ]
  },
  {
   "cell_type": "markdown",
   "id": "132ed079-f2a9-45f4-9af7-8d36a3f454ba",
   "metadata": {},
   "source": [
    "Scrape all images"
   ]
  },
  {
   "cell_type": "code",
   "execution_count": 9,
   "id": "0214641c-abd4-40ad-b87b-fb02d74d3ce1",
   "metadata": {},
   "outputs": [],
   "source": [
    "for link in soup.find_all('img'):\n",
    "    print(link.get('src'))"
   ]
  },
  {
   "cell_type": "markdown",
   "id": "eab97022-fe32-4b9a-abf4-2e4207ffdbe9",
   "metadata": {},
   "source": [
    "## Scrape data from html tables\n"
   ]
  },
  {
   "cell_type": "code",
   "execution_count": 11,
   "id": "c5b69d62-bbf2-4a0a-a1b9-286bbdded616",
   "metadata": {},
   "outputs": [],
   "source": [
    "URL = \"https://cf-courses-data.s3.us.cloud-object-storage.appdomain.cloud/IBM-DA0321EN-SkillsNetwork/labs/datasets/HTMLColorCodes.html\""
   ]
  },
  {
   "cell_type": "code",
   "execution_count": 12,
   "id": "22833484-378d-4714-9d68-3edd147e347e",
   "metadata": {},
   "outputs": [],
   "source": [
    "data  = requests.get(URL).text"
   ]
  },
  {
   "cell_type": "code",
   "execution_count": 13,
   "id": "fa799ec2-3184-43e4-8b53-d69c14daae65",
   "metadata": {},
   "outputs": [],
   "source": [
    "soup = BeautifulSoup(data,\"html.parser\")"
   ]
  },
  {
   "cell_type": "code",
   "execution_count": 15,
   "id": "f8ac92f2-8303-4f59-af5e-070a62540453",
   "metadata": {},
   "outputs": [],
   "source": [
    "table = soup.find('table') "
   ]
  },
  {
   "cell_type": "markdown",
   "id": "bfb9fda2-da5e-4a58-9017-a537f4e65030",
   "metadata": {},
   "source": [
    "## Get all rows from the table"
   ]
  },
  {
   "cell_type": "code",
   "execution_count": 17,
   "id": "2840b8b1-f3a8-4a18-9062-9a32abd39a2a",
   "metadata": {},
   "outputs": [
    {
     "name": "stdout",
     "output_type": "stream",
     "text": [
      "Color Name--->Hex Code#RRGGBB\n",
      "lightsalmon--->#FFA07A\n",
      "salmon--->#FA8072\n",
      "darksalmon--->#E9967A\n",
      "lightcoral--->#F08080\n",
      "coral--->#FF7F50\n",
      "tomato--->#FF6347\n",
      "orangered--->#FF4500\n",
      "gold--->#FFD700\n",
      "orange--->#FFA500\n",
      "darkorange--->#FF8C00\n",
      "lightyellow--->#FFFFE0\n",
      "lemonchiffon--->#FFFACD\n",
      "papayawhip--->#FFEFD5\n",
      "moccasin--->#FFE4B5\n",
      "peachpuff--->#FFDAB9\n",
      "palegoldenrod--->#EEE8AA\n",
      "khaki--->#F0E68C\n",
      "darkkhaki--->#BDB76B\n",
      "yellow--->#FFFF00\n",
      "lawngreen--->#7CFC00\n",
      "chartreuse--->#7FFF00\n",
      "limegreen--->#32CD32\n",
      "lime--->#00FF00\n",
      "forestgreen--->#228B22\n",
      "green--->#008000\n",
      "powderblue--->#B0E0E6\n",
      "lightblue--->#ADD8E6\n",
      "lightskyblue--->#87CEFA\n",
      "skyblue--->#87CEEB\n",
      "deepskyblue--->#00BFFF\n",
      "lightsteelblue--->#B0C4DE\n",
      "dodgerblue--->#1E90FF\n"
     ]
    }
   ],
   "source": [
    "for row in table.find_all('tr'): \n",
    "    cols = row.find_all('td') \n",
    "    color_name = cols[2].getText() \n",
    "    color_code = cols[3].getText() \n",
    "    print(\"{}--->{}\".format(color_name,color_code))"
   ]
  },
  {
   "cell_type": "code",
   "execution_count": null,
   "id": "d69dfca5-a51c-4995-864f-e5fcb61d497b",
   "metadata": {},
   "outputs": [],
   "source": []
  }
 ],
 "metadata": {
  "kernelspec": {
   "display_name": "Python [conda env:base] *",
   "language": "python",
   "name": "conda-base-py"
  },
  "language_info": {
   "codemirror_mode": {
    "name": "ipython",
    "version": 3
   },
   "file_extension": ".py",
   "mimetype": "text/x-python",
   "name": "python",
   "nbconvert_exporter": "python",
   "pygments_lexer": "ipython3",
   "version": "3.12.7"
  }
 },
 "nbformat": 4,
 "nbformat_minor": 5
}
