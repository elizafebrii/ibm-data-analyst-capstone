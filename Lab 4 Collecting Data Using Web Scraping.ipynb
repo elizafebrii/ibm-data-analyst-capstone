{
 "cells": [
  {
   "cell_type": "markdown",
   "id": "8a10768c-ff1d-4eae-bedd-30fe71197a6e",
   "metadata": {},
   "source": [
    "<p style=\"text-align:center\">\n",
    "    <a href=\"https://skills.network/?utm_medium=Exinfluencer&utm_source=Exinfluencer&utm_content=000026UJ&utm_term=10006555&utm_id=NA-SkillsNetwork-Channel-SkillsNetworkCoursesIBMDA0321ENSkillsNetwork928-2022-01-01\" target=\"_blank\">\n",
    "    <img src=\"https://cf-courses-data.s3.us.cloud-object-storage.appdomain.cloud/assets/logos/SN_web_lightmode.png\" width=\"200\" alt=\"Skills Network Logo\"  />\n",
    "    </a>\n",
    "</p>\n"
   ]
  },
  {
   "cell_type": "markdown",
   "id": "605f79cb-e365-4ae2-a923-08a47d89abe7",
   "metadata": {},
   "source": [
    "# **Hands-on Lab : Web Scraping**"
   ]
  },
  {
   "cell_type": "markdown",
   "id": "a41c8a9c-de28-4764-95f2-4e0d5fd8b0f0",
   "metadata": {},
   "source": [
    "## Objectives\n"
   ]
  },
  {
   "cell_type": "markdown",
   "id": "df13a478-ccbc-4d42-9db2-5e693cedce30",
   "metadata": {},
   "source": [
    "In this lab will perform the following:"
   ]
  },
  {
   "cell_type": "markdown",
   "id": "efab12d3-23d1-43e8-b753-895e055a8911",
   "metadata": {},
   "source": [
    "* Extract information from a given web site \n",
    "* Write the scraped data into a csv file.\n"
   ]
  },
  {
   "cell_type": "markdown",
   "id": "05dfb4af-a289-42b2-9284-75c694591b5a",
   "metadata": {},
   "source": [
    "## Extract information from the given web site\n",
    "You will extract the data from the below web site: <br> \n"
   ]
  },
  {
   "cell_type": "code",
   "execution_count": 1,
   "id": "b7545982-574e-4e04-a1dc-6803030a0072",
   "metadata": {},
   "outputs": [],
   "source": [
    "#this url contains the data to scrape\n",
    "url = \"https://cf-courses-data.s3.us.cloud-object-storage.appdomain.cloud/IBM-DA0321EN-SkillsNetwork/labs/datasets/Programming_Languages.html\""
   ]
  },
  {
   "cell_type": "markdown",
   "id": "d2dbb88b-8786-4ebd-9da8-603f42c6e0b5",
   "metadata": {},
   "source": [
    "The data you need to scrape is the **name of the programming language** and **average annual salary**.<br> It is a good idea to open the url in your web broswer and study the contents of the web page before you start to scrape.\n"
   ]
  },
  {
   "cell_type": "markdown",
   "id": "5afb1d5c-1678-4024-966f-55cd74203a74",
   "metadata": {},
   "source": [
    "import the required libraries"
   ]
  },
  {
   "cell_type": "code",
   "execution_count": 2,
   "id": "6a369a46-8ed3-43a3-b075-223e4f656bce",
   "metadata": {},
   "outputs": [],
   "source": [
    "from bs4 import BeautifulSoup\n",
    "import requests"
   ]
  },
  {
   "cell_type": "markdown",
   "id": "454e2755-02ba-441a-9d69-8cccfb8722af",
   "metadata": {},
   "source": [
    "Download the webpage at the url"
   ]
  },
  {
   "cell_type": "code",
   "execution_count": 4,
   "id": "f67921b9-37f9-4016-9e94-46243fe3b409",
   "metadata": {},
   "outputs": [],
   "source": [
    "url = \"https://cf-courses-data.s3.us.cloud-object-storage.appdomain.cloud/IBM-DA0321EN-SkillsNetwork/labs/datasets/Programming_Languages.html\"\n",
    "response = requests.get(url)"
   ]
  },
  {
   "cell_type": "markdown",
   "id": "f04ea028-0d86-442b-a131-159f80d123ec",
   "metadata": {},
   "source": [
    "Create a soup object"
   ]
  },
  {
   "cell_type": "code",
   "execution_count": 5,
   "id": "f016b6a5-3942-4799-a636-3f34ac83bb28",
   "metadata": {},
   "outputs": [],
   "source": [
    "soup = BeautifulSoup(response.content, 'html.parser')"
   ]
  },
  {
   "cell_type": "markdown",
   "id": "bbd583ca-1a21-46f3-a38a-3b07599030e9",
   "metadata": {},
   "source": [
    "Scrape the `Language name` and `annual average salary`."
   ]
  },
  {
   "cell_type": "code",
   "execution_count": 8,
   "id": "f17fc703-d1bd-482a-b1a4-6f2d640571e6",
   "metadata": {},
   "outputs": [
    {
     "name": "stdout",
     "output_type": "stream",
     "text": [
      "Language: 1, Average Annual Salary: Python\n",
      "Language: 2, Average Annual Salary: Java\n",
      "Language: 3, Average Annual Salary: R\n",
      "Language: 4, Average Annual Salary: Javascript\n",
      "Language: 5, Average Annual Salary: Swift\n",
      "Language: 6, Average Annual Salary: C++\n",
      "Language: 7, Average Annual Salary: C#\n",
      "Language: 8, Average Annual Salary: PHP\n",
      "Language: 9, Average Annual Salary: SQL\n",
      "Language: 10, Average Annual Salary: Go\n"
     ]
    }
   ],
   "source": [
    "table = soup.find('table')\n",
    "rows = table.find_all('tr')  # Corrected 'fins_all' to 'find_all'\n",
    "\n",
    "for row in rows[1:]:  # Corrected variable name from 'row' to 'rows'\n",
    "    cols = row.find_all('td')\n",
    "    language = cols[0].text.strip()\n",
    "    salary = cols[1].text.strip()\n",
    "    print(f\"Language: {language}, Average Annual Salary: {salary}\")  # Fixed the line break in the f-string"
   ]
  },
  {
   "cell_type": "markdown",
   "id": "83ad9f5e-0f26-40cb-80c4-cb111a868d73",
   "metadata": {},
   "source": [
    "Save the scrapped data into a file named *popular-languages.csv*"
   ]
  },
  {
   "cell_type": "code",
   "execution_count": 14,
   "id": "ffde8071-3d50-4e87-8589-6768525457a6",
   "metadata": {},
   "outputs": [],
   "source": [
    "with open('popular-languages.csv', 'w', newline='') as file:\n",
    "    writer = csv.writer(file)\n",
    "    writer.writerows(data) "
   ]
  }
 ],
 "metadata": {
  "kernelspec": {
   "display_name": "Python [conda env:base] *",
   "language": "python",
   "name": "conda-base-py"
  },
  "language_info": {
   "codemirror_mode": {
    "name": "ipython",
    "version": 3
   },
   "file_extension": ".py",
   "mimetype": "text/x-python",
   "name": "python",
   "nbconvert_exporter": "python",
   "pygments_lexer": "ipython3",
   "version": "3.12.7"
  }
 },
 "nbformat": 4,
 "nbformat_minor": 5
}
